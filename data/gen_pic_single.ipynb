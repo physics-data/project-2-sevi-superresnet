{
 "cells": [
  {
   "cell_type": "markdown",
   "source": [
    "# 生成单球壳图片"
   ],
   "metadata": {}
  },
  {
   "cell_type": "code",
   "execution_count": 2,
   "source": [
    "import h5py\n",
    "from tqdm import tqdm\n",
    "import numpy as np\n",
    "import matplotlib.pyplot as plt"
   ],
   "outputs": [],
   "metadata": {}
  },
  {
   "cell_type": "code",
   "execution_count": 10,
   "source": [
    "\n",
    "for idx_of_gen_traindata in [10,11,12,13,14,15,16,17,18,19]:#这里修改数据集序号\n",
    "    R_list = []\n",
    "    Beta_list = []\n",
    "    Electrons_list = []\n",
    "    inputs = []\n",
    "    # 读取数据\n",
    "    gen_data = h5py.File(f'train{idx_of_gen_traindata}_ele_info.h5','r')\n",
    "    print(f'train{idx_of_gen_traindata}_ele_info.h5')\n",
    "    for i in list(gen_data.keys()):\n",
    "        # print(gen_data[i]['Electrons'][:])\n",
    "        R_list.append(gen_data[i]['R'][:][1])\n",
    "        Beta_list.append(gen_data[i]['Beta'][:12])\n",
    "        Electrons_list.append(gen_data[i]['Electrons'][:])\n",
    "    gen_data.close()\n",
    "\n",
    "    # 生成图片\n",
    "    \n",
    "    for todo_elc in tqdm(Electrons_list):\n",
    "        ccd = np.zeros((1024,1024),dtype=np.float64)\n",
    "        for electron in todo_elc:\n",
    "            x = int(electron[1]*512)+512\n",
    "            y = int(electron[2]*512)+512\n",
    "            ccd[x][y] += 1\n",
    "        ccd =  ccd/len(todo_elc)*255\n",
    "        inputs.append(ccd)\n",
    "    labels = Beta_list\n",
    "    Rs = R_list\n",
    "    # 存数据\n",
    "    with h5py.File(f'dataset_{idx_of_gen_traindata}.h5','w') as out:\n",
    "        out['inputs'] = inputs\n",
    "        out['labels'] = labels\n",
    "        out['R'] = Rs"
   ],
   "outputs": [
    {
     "output_type": "stream",
     "name": "stdout",
     "text": [
      "train10_ele_info.h5\n"
     ]
    },
    {
     "output_type": "stream",
     "name": "stderr",
     "text": [
      "100%|██████████| 100/100 [05:05<00:00,  3.06s/it]\n"
     ]
    },
    {
     "output_type": "stream",
     "name": "stdout",
     "text": [
      "train11_ele_info.h5\n"
     ]
    },
    {
     "output_type": "stream",
     "name": "stderr",
     "text": [
      "100%|██████████| 100/100 [05:01<00:00,  3.01s/it]\n"
     ]
    },
    {
     "output_type": "stream",
     "name": "stdout",
     "text": [
      "train12_ele_info.h5\n"
     ]
    },
    {
     "output_type": "stream",
     "name": "stderr",
     "text": [
      "100%|██████████| 100/100 [05:04<00:00,  3.05s/it]\n"
     ]
    },
    {
     "output_type": "stream",
     "name": "stdout",
     "text": [
      "train13_ele_info.h5\n"
     ]
    },
    {
     "output_type": "stream",
     "name": "stderr",
     "text": [
      "100%|██████████| 100/100 [05:04<00:00,  3.04s/it]\n"
     ]
    },
    {
     "output_type": "stream",
     "name": "stdout",
     "text": [
      "train14_ele_info.h5\n"
     ]
    },
    {
     "output_type": "stream",
     "name": "stderr",
     "text": [
      "100%|██████████| 100/100 [05:05<00:00,  3.05s/it]\n"
     ]
    },
    {
     "output_type": "stream",
     "name": "stdout",
     "text": [
      "train15_ele_info.h5\n"
     ]
    },
    {
     "output_type": "stream",
     "name": "stderr",
     "text": [
      "100%|██████████| 100/100 [05:05<00:00,  3.06s/it]\n"
     ]
    },
    {
     "output_type": "stream",
     "name": "stdout",
     "text": [
      "train16_ele_info.h5\n"
     ]
    },
    {
     "output_type": "stream",
     "name": "stderr",
     "text": [
      "100%|██████████| 100/100 [05:05<00:00,  3.05s/it]\n"
     ]
    },
    {
     "output_type": "stream",
     "name": "stdout",
     "text": [
      "train17_ele_info.h5\n"
     ]
    },
    {
     "output_type": "stream",
     "name": "stderr",
     "text": [
      "100%|██████████| 100/100 [05:06<00:00,  3.06s/it]\n"
     ]
    },
    {
     "output_type": "stream",
     "name": "stdout",
     "text": [
      "train18_ele_info.h5\n"
     ]
    },
    {
     "output_type": "stream",
     "name": "stderr",
     "text": [
      "100%|██████████| 100/100 [05:06<00:00,  3.06s/it]\n"
     ]
    },
    {
     "output_type": "stream",
     "name": "stdout",
     "text": [
      "train19_ele_info.h5\n"
     ]
    },
    {
     "output_type": "stream",
     "name": "stderr",
     "text": [
      "100%|██████████| 100/100 [05:05<00:00,  3.06s/it]\n"
     ]
    }
   ],
   "metadata": {}
  },
  {
   "cell_type": "code",
   "execution_count": 37,
   "source": [
    "with h5py.File('dataset_10.h5','r') as out:\n",
    "    inputs = out['inputs'] \n",
    "    ccd = inputs[0][:]\n",
    "plt.imshow(ccd)"
   ],
   "outputs": [
    {
     "output_type": "execute_result",
     "data": {
      "text/plain": [
       "<matplotlib.image.AxesImage at 0x7f7cf1226d30>"
      ]
     },
     "metadata": {},
     "execution_count": 37
    },
    {
     "output_type": "display_data",
     "data": {
      "image/png": "[encoded data removed]",
      "text/plain": [
       "<Figure size 432x288 with 1 Axes>"
      ]
     },
     "metadata": {
      "needs_background": "light"
     }
    }
   ],
   "metadata": {}
  }
 ],
 "metadata": {
  "orig_nbformat": 4,
  "language_info": {
   "name": "python",
   "version": "3.6.13",
   "mimetype": "text/x-python",
   "codemirror_mode": {
    "name": "ipython",
    "version": 3
   },
   "pygments_lexer": "ipython3",
   "nbconvert_exporter": "python",
   "file_extension": ".py"
  },
  "kernelspec": {
   "name": "python3",
   "display_name": "Python 3.6.13 64-bit ('physics_data': conda)"
  },
  "interpreter": {
   "hash": "684738f2aa08490889214f9e8001a6b0123dfe21ce04068cca2fd371352ff5f2"
  }
 },
 "nbformat": 4,
 "nbformat_minor": 2
}