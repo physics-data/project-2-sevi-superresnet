{
 "cells": [
  {
   "cell_type": "markdown",
   "source": [
    "# 生成双球壳图片"
   ],
   "metadata": {}
  },
  {
   "cell_type": "code",
   "execution_count": 1,
   "source": [
    "import h5py\n",
    "from tqdm import tqdm\n",
    "import numpy as np\n",
    "import matplotlib.pyplot as plt"
   ],
   "outputs": [],
   "metadata": {}
  },
  {
   "cell_type": "code",
   "execution_count": 2,
   "source": [
    "inputs = []\n",
    "labels = []\n",
    "Rs = []\n",
    "for idx_of_gen_traindata in [10,11,12,13,14,15,16,17,18,19]:\n",
    "    with h5py.File(f'dataset_{idx_of_gen_traindata}.h5','r') as gen_data:\n",
    "\n",
    "        inputs.append(np.array(gen_data['inputs']))\n",
    "        labels.append(np.array(gen_data['labels'])[:,0:12])\n",
    "        Rs.append(np.array(gen_data['R']))\n",
    "inputs = np.concatenate(inputs,axis=0)\n",
    "labels = np.concatenate(labels,axis=0)\n",
    "Rs = np.concatenate(Rs,axis=0)\n",
    "print(f'total_len: {len(inputs)}')"
   ],
   "outputs": [
    {
     "output_type": "stream",
     "name": "stdout",
     "text": [
      "total_len: 1000\n"
     ]
    }
   ],
   "metadata": {}
  },
  {
   "cell_type": "code",
   "execution_count": 3,
   "source": [
    "max_num_of_gen_data = 500\n",
    "num_of_gen_data = 0\n",
    "double_inputs = []\n",
    "double_labels = []\n",
    "double_Rs = []\n",
    "while num_of_gen_data < max_num_of_gen_data:\n",
    "    chosen = np.random.randint(0, len(labels), size=(2))\n",
    "    if chosen[0] == chosen[1]:\n",
    "        continue\n",
    "    if Rs[chosen[0]] < Rs[chosen[1]]:\n",
    "        to_choose = chosen[0],chosen[1]\n",
    "    else:\n",
    "        to_choose = chosen[1],chosen[0]\n",
    "\n",
    "    double_input = (inputs[to_choose[0]] + inputs[to_choose[1]])/2\n",
    "    double_label = np.array([labels[to_choose[0]],labels[to_choose[1]]])\n",
    "    double_R = np.array([Rs[to_choose[0]],Rs[to_choose[1]]])\n",
    "    double_inputs.append(double_input)\n",
    "    double_labels.append(double_label)\n",
    "    double_Rs.append(double_R)\n",
    "\n",
    "    num_of_gen_data += 1"
   ],
   "outputs": [],
   "metadata": {}
  },
  {
   "cell_type": "code",
   "execution_count": 4,
   "source": [
    "with h5py.File(f'dataset_double.h5','w') as out:\n",
    "    out['inputs'] = double_inputs\n",
    "    out['labels'] = double_labels\n",
    "    out['Rs'] = double_Rs"
   ],
   "outputs": [],
   "metadata": {}
  },
  {
   "cell_type": "code",
   "execution_count": 5,
   "source": [
    "with h5py.File(f'dataset_double.h5','r') as out:\n",
    "    print(out['labels'])"
   ],
   "outputs": [
    {
     "output_type": "stream",
     "name": "stdout",
     "text": [
      "<HDF5 dataset \"labels\": shape (500, 2, 12), type \"<f8\">\n"
     ]
    }
   ],
   "metadata": {}
  }
 ],
 "metadata": {
  "orig_nbformat": 4,
  "language_info": {
   "name": "python",
   "version": "3.6.13",
   "mimetype": "text/x-python",
   "codemirror_mode": {
    "name": "ipython",
    "version": 3
   },
   "pygments_lexer": "ipython3",
   "nbconvert_exporter": "python",
   "file_extension": ".py"
  },
  "kernelspec": {
   "name": "python3",
   "display_name": "Python 3.6.13 64-bit ('physics_data': conda)"
  },
  "interpreter": {
   "hash": "684738f2aa08490889214f9e8001a6b0123dfe21ce04068cca2fd371352ff5f2"
  }
 },
 "nbformat": 4,
 "nbformat_minor": 2
}