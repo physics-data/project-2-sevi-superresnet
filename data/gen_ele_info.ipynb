{
 "cells": [
  {
   "cell_type": "markdown",
   "source": [
    "# 将第二类数据，存成分布信息和分布中所有电子的形式"
   ],
   "metadata": {}
  },
  {
   "cell_type": "code",
   "execution_count": 2,
   "source": [
    "import h5py\n",
    "import matplotlib.pyplot as plt\n",
    "from tqdm import tqdm\n",
    "import copy\n",
    "import numpy as np\n"
   ],
   "outputs": [],
   "metadata": {}
  },
  {
   "cell_type": "code",
   "execution_count": 2,
   "source": [
    "# 将数据存成分布信息和分布中所有电子的形式\n",
    "for idx_of_traindata in [18, 19]: # 这里更改\n",
    "    traindata = h5py.File('train{}.h5'.format(idx_of_traindata), 'r')\n",
    "    print(f'preparing train{idx_of_traindata}.h5')\n",
    "    DistributionParameters = traindata['DistributionParameters'][:]\n",
    "    GeneratedElectrons = traindata['GeneratedElectrons'][:]\n",
    "    DetectedElectrons = traindata['DetectedElectrons'][:]\n",
    "    traindata.close()\n",
    "    # 存储分布编号\n",
    "    distribution_list = []\n",
    "    for dp in DistributionParameters:\n",
    "        distribution_list.append(dp[0])\n",
    "\n",
    "    # 每个分布的电子编号\n",
    "    elec_matrix = []\n",
    "\n",
    "    len_of_GeneratedElectrons = len(GeneratedElectrons)\n",
    "    idx_of_GE = 0\n",
    "    len_of_DetectedElectrons = len(DetectedElectrons)\n",
    "    idx_of_DE = 0\n",
    "    # 讲三个表中元素join成一张表\n",
    "    for idx_of_Db in tqdm(distribution_list):\n",
    "        elec_list = []\n",
    "        while idx_of_GE < len_of_GeneratedElectrons:\n",
    "            if GeneratedElectrons[idx_of_GE][0] == idx_of_Db:\n",
    "                while idx_of_DE < len_of_DetectedElectrons:\n",
    "                    if DetectedElectrons[idx_of_DE][0] == GeneratedElectrons[idx_of_GE][1]:\n",
    "                        elec_list.append(DetectedElectrons[idx_of_DE])\n",
    "                        idx_of_DE += 1\n",
    "                    elif DetectedElectrons[idx_of_DE][0] > GeneratedElectrons[idx_of_GE][1]:\n",
    "                        break\n",
    "                idx_of_GE += 1\n",
    "            elif GeneratedElectrons[idx_of_GE][0] > idx_of_Db:\n",
    "                break\n",
    "        elec_matrix.append(elec_list)\n",
    "    print(f'Finished generating elec_matrix_{idx_of_traindata}!')\n",
    "    # 存数据\n",
    "    with h5py.File(f'train{idx_of_traindata}_ele_info.h5', 'w') as out:\n",
    "        print(f'train{idx_of_traindata}_ele_info.h5')\n",
    "        for i in range(len(distribution_list)):\n",
    "            out[f'/{i}/R'] = np.array([DistributionParameters[i][0],\n",
    "                                       DistributionParameters[i][1], DistributionParameters[i][2]], dtype=np.float64)\n",
    "            out[f'/{i}/Beta'] = np.array(DistributionParameters[i]\n",
    "                                         [3], dtype=np.float64, copy=True)\n",
    "            out[f'/{i}/Electrons'] = elec_matrix[i]\n",
    "        print(f'Finished saving train{idx_of_traindata}_ele_info.h5!')\n"
   ],
   "outputs": [
    {
     "output_type": "stream",
     "name": "stdout",
     "text": [
      "preparing train18.h5\n"
     ]
    },
    {
     "output_type": "stream",
     "name": "stderr",
     "text": [
      "100%|██████████| 100/100 [09:44<00:00,  5.85s/it]\n"
     ]
    },
    {
     "output_type": "stream",
     "name": "stdout",
     "text": [
      "Finished generating elec_matrix_18!\n",
      "train18_ele_info.h5\n",
      "Finished saving train18_ele_info.h5!\n",
      "preparing train19.h5\n"
     ]
    },
    {
     "output_type": "stream",
     "name": "stderr",
     "text": [
      "100%|██████████| 100/100 [09:46<00:00,  5.86s/it]\n"
     ]
    },
    {
     "output_type": "stream",
     "name": "stdout",
     "text": [
      "Finished generating elec_matrix_19!\n",
      "train19_ele_info.h5\n",
      "Finished saving train19_ele_info.h5!\n"
     ]
    }
   ],
   "metadata": {}
  }
 ],
 "metadata": {
  "orig_nbformat": 4,
  "language_info": {
   "name": "python",
   "version": "3.7.11",
   "mimetype": "text/x-python",
   "codemirror_mode": {
    "name": "ipython",
    "version": 3
   },
   "pygments_lexer": "ipython3",
   "nbconvert_exporter": "python",
   "file_extension": ".py"
  },
  "kernelspec": {
   "name": "python3",
   "display_name": "Python 3.7.11 64-bit ('physics_data': conda)"
  },
  "interpreter": {
   "hash": "91e5a19c03d335f3b632638c1532d76584e5cb0abc723b691b5a794b83b68341"
  }
 },
 "nbformat": 4,
 "nbformat_minor": 2
}